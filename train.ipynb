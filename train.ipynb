{
 "cells": [
  {
   "cell_type": "code",
   "execution_count": null,
   "metadata": {},
   "outputs": [
    {
     "ename": "",
     "evalue": "",
     "output_type": "error",
     "traceback": [
      "\u001b[1;31mRunning cells with '.venv (Python 3.11.9)' requires the ipykernel package.\n",
      "\u001b[1;31mRun the following command to install 'ipykernel' into the Python environment. \n",
      "\u001b[1;31mCommand: '/home/vilarmms/Projetos/SmartVine/.venv/bin/python -m pip install ipykernel -U --force-reinstall'"
     ]
    }
   ],
   "source": [
    "# Importing libs\n",
    "import pandas as pd\n",
    "import numpy as np\n",
    "import opencv, json, os\n",
    "from src.data_loader.py import DataLoader\n",
    "from src.model_architecture import ModelArchitecture as ModelArch\n",
    "# Importing model configuration\n",
    "with open('model_config.json') as f:\n",
    "    config = json.load(f)\n",
    "\n",
    "# Load data (grayscale)\n",
    "load_inst = DataLoader()\n",
    "\n",
    "if config[\"load_data_from\"] == \"raw\":\n",
    "    df_train, df_test = load_inst.load_train_and_test_raw_datasets(config[\"save_datasets\"])\n",
    "\n",
    "else:\n",
    "    df_train, df_test = load_inst.load_split_datasets()\n",
    "\n"
   ]
  }
 ],
 "metadata": {
  "kernelspec": {
   "display_name": ".venv",
   "language": "python",
   "name": "python3"
  },
  "language_info": {
   "name": "python",
   "version": "3.11.9"
  }
 },
 "nbformat": 4,
 "nbformat_minor": 2
}
