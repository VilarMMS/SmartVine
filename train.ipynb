{
 "cells": [
  {
   "cell_type": "code",
   "execution_count": 1,
   "metadata": {},
   "outputs": [],
   "source": [
    "# Importing libs\n",
    "import pandas as pd\n",
    "import numpy as np\n",
    "import cv2, json, os\n",
    "from src.data_loader import DataLoader\n",
    "# from src.model_architecture import ModelArchitecture as ModelArch\n",
    "\n",
    "# Importing model configuration\n",
    "with open('model_config.json') as f:\n",
    "    config = json.load(f)\n",
    "\n",
    "# Load data (default: grayscale)\n",
    "load_inst = DataLoader(config['img_channels'])\n",
    "\n",
    "if config[\"process_images\"] == \"True\":\n",
    "    df_train, df_test = load_inst.load_train_and_test_raw_datasets(config[\"save_datasets\"])\n",
    "\n",
    "else:\n",
    "    df_train, df_test = load_inst.load_split_datasets()\n",
    "\n"
   ]
  }
 ],
 "metadata": {
  "kernelspec": {
   "display_name": ".venv",
   "language": "python",
   "name": "python3"
  },
  "language_info": {
   "codemirror_mode": {
    "name": "ipython",
    "version": 3
   },
   "file_extension": ".py",
   "mimetype": "text/x-python",
   "name": "python",
   "nbconvert_exporter": "python",
   "pygments_lexer": "ipython3",
   "version": "3.11.9"
  }
 },
 "nbformat": 4,
 "nbformat_minor": 2
}
